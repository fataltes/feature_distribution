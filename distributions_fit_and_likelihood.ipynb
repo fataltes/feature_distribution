{
 "cells": [
  {
   "cell_type": "markdown",
   "metadata": {},
   "source": [
    "# Necessary Libraries & Global Variables"
   ]
  },
  {
   "cell_type": "code",
   "execution_count": 5,
   "metadata": {
    "collapsed": false
   },
   "outputs": [],
   "source": [
    "%matplotlib inline\n",
    "from __future__ import division\n",
    "import matplotlib.pyplot as plt\n",
    "import numpy as np\n",
    "import scipy\n",
    "import scipy.stats as ss\n",
    "import pandas as pd\n",
    "import warnings\n",
    "import random\n",
    "import logging\n",
    "\n",
    "import time\n",
    "import pdb\n",
    "\n",
    "#SMALL_VAL = 0.0000001\n",
    "SMALL_VAL = 1\n",
    "Zero = 0\n",
    "RAND_COUNT = 10000\n",
    "group_id_cnt = 0"
   ]
  },
  {
   "cell_type": "markdown",
   "metadata": {},
   "source": [
    "# Maximum Likelihood Estimation\n",
    "The following methods calculate MLE of different distributions based on the input empirical data"
   ]
  },
  {
   "cell_type": "markdown",
   "metadata": {},
   "source": [
    "MLE calculator returns at most 4 parameters for the distributions \"normal\", \"log-normal\", \"power law\", \"fisk\", \"binomial\", \"zero-inflated log-normal\", and \"zero-inflated power law\".\n",
    "1. locale -> key: loc\n",
    "2. scale -> key: scale\n",
    "3. shape -> key: shape\n",
    "\n",
    "input zero shows the real number that should be considered as zero if the data is normalized into 0.005 to 1 of range of x.\n",
    "\n",
    "NOTE: WHEN N, COUNT OF DATA TO CALCULATE MLE, AND N', COUNT OF OUT-OF-SAMPLE DATA TO CALCULATE LIKELIHOOD ON ARE NOT EQUAL, VALUE OF ZERO IS NOT THE SAME. DON'T KNOW WHAT WE SHOULD DO IN THIS CASE!!!"
   ]
  },
  {
   "cell_type": "code",
   "execution_count": 132,
   "metadata": {
    "collapsed": false
   },
   "outputs": [],
   "source": [
    "def mle(data, dist, zero = 0):\n",
    "    loc = -1\n",
    "    scale = -1\n",
    "    shape = -1\n",
    "    p0 = -1 # Probability of being zero in zero-inflated distributions\n",
    "    \n",
    "    warningMsg = \"Data out of range for \" + dist + \". Will remove \"\n",
    "    #logging.warn(warningMsg.format(\"x<=0\"))\n",
    "    if dist == 'norm': # MLE for Normal\n",
    "        loc = np.mean(data)\n",
    "        scale = np.std(data)\n",
    "    \n",
    "    if dist == 'lognorm': # MLE for Log-normal\n",
    "        if min(data) <= 0:\n",
    "            logging.warn(warningMsg+\"x <= 0\")\n",
    "        data = data[data > 0]\n",
    "        lndata = np.log(data)\n",
    "        loc = np.mean(lndata)\n",
    "        scale = np.std(data)\n",
    "    \n",
    "    if dist == 'powerlaw': # MLE for Power Law\n",
    "        if min(data) <= 0:\n",
    "            logging.warn(warningMsg+\"x <= 0\")\n",
    "        # x_min is just set to the smallest non-zero x\n",
    "        data = data[data > 0]\n",
    "        x_min = min(data)\n",
    "        shape = 1 + len(data)/(np.sum(np.log(data/x_min)))\n",
    "    \n",
    "    if dist == 'zin_lognorm': # MLE for Zero-Inflated Log-normal\n",
    "        if min(data) < 0:\n",
    "            logging.warn(warningMsg+\"x < 0\")\n",
    "        data = data[data >= zero]\n",
    "        p0 = len(data[data == zero])/len(data)\n",
    "        data = data[data > zero]\n",
    "        # log-normal MLE\n",
    "        lndata = np.log(data)\n",
    "        loc = np.mean(lndata)\n",
    "        scale = np.std(data)\n",
    "        \n",
    "    if dist == 'zin_powerlaw': # MLE for Zero-Inflated Power Law\n",
    "        if min(data) < 0:\n",
    "            logging.warn(warningMsg+\"x < 0\")\n",
    "        data = data[data >= zero]\n",
    "        p0 = len(data[data == zero])/len(data)\n",
    "        # power law MLE\n",
    "        data = data[data > zero]\n",
    "        x_min = min(data)\n",
    "        shape = 1 + len(data)/(np.sum(np.log(data/x_min)))\n",
    "\n",
    "    if dist == 'binomial' or dist == 'bernoulli': # MLE for Binomial or Bernoulli\n",
    "        if not all(item.is_integer() for item in data):\n",
    "            logging.warn(\"Can't calculate MLE. Not integer values for Binomial distribution.\")\n",
    "        else:\n",
    "            if min(data) < zero:\n",
    "                logging.warn(wanringMsg.format(\"x < \" + str(zero)))\n",
    "        data = data[data >= zero]\n",
    "        p0 = len(data[data == zero])/len(data)\n",
    "        \n",
    "    return {'loc':loc, 'scale':scale, 'shape':shape, 'p0':p0}"
   ]
  },
  {
   "cell_type": "markdown",
   "metadata": {},
   "source": [
    "# pdf or pmf \n",
    "Results of out-of-sample data based for the theoretical distribution given its parameters."
   ]
  },
  {
   "cell_type": "code",
   "execution_count": 117,
   "metadata": {
    "collapsed": false
   },
   "outputs": [],
   "source": [
    "def pdmf(data, dist, params, zero = 0):\n",
    "\n",
    "    loc = params['loc']\n",
    "    scale = params['scale']\n",
    "    shape = params['shape']\n",
    "    p0 = params['p0']\n",
    "    \n",
    "    ll = None\n",
    "    warningMsg = \"Data out of range for \" + dist + \". Will remove \"\n",
    "    \n",
    "    if dist == 'norm': # pdf for Normal\n",
    "        pdmf_arr = np.exp(-(data-loc)**2/(2*scale**2))/(scale * np.sqrt(2*np.pi))\n",
    "\n",
    "    if dist == 'lognorm': # pdf for Log-normal\n",
    "        if min(data) <= 0:\n",
    "            logging.warn(warningMsg+\"x <= 0\")\n",
    "        data = data[data > 0]\n",
    "        lndata = np.log(data)\n",
    "        pdmf_arr = np.exp(-(lndata-loc)**2/(2*scale**2))/(data*scale*np.sqrt(2*np.pi))\n",
    "    \n",
    "    if dist == 'powerlaw': # pdf for Power Law\n",
    "        if min(data) <= 0:\n",
    "            logging.warn(warningMsg+\"x <= 0\")\n",
    "        # x_min is just set to the smallest non-zero x\n",
    "        data = data[data > 0]\n",
    "        x_min = min(data)\n",
    "        pdmf_arr = (shape-1)*(data/x_min)**(-shape)/x_min\n",
    "    \n",
    "    if dist == 'zin_lognorm': # pmf for Zero-Inflated Log-normal\n",
    "        if min(data) < 0:\n",
    "            logging.warn(warningMsg+\"x < 0\")\n",
    "        zero_count = len(data[data == zero])\n",
    "        data = data[data > zero] # nonzero data\n",
    "        lndata = np.log(data)\n",
    "        pdmf_arr = -np.exp((lndata-loc)**2/(2*scale**2))/(data*scale*np.sqrt(2*np.pi))\n",
    "        pdmf_arr = np.append((1 - p0)*pdmf_arr, [p0]*zero_count)\n",
    "        \n",
    "    if dist == 'zin_powerlaw': # pmf for Zero-Inflated Power Law\n",
    "        if min(data) < 0:\n",
    "            logging.warn(warningMsg+\"x < 0\")\n",
    "        data = data[data >= zero]\n",
    "        zero_count = len(data[data == zero])\n",
    "        data = data[data > zero]\n",
    "        x_min = min(data)\n",
    "        pdmf_arr = (shape-1)*(data/x_min)**(-shape)/x_min\n",
    "        pdmf_arr = np.append((1 - p0)*pdmf_arr, [p0]*zero_count)\n",
    "        \n",
    "    if dist == 'binomial': # pmf for Binomial\n",
    "        if not all(item.is_integer() for item in data):\n",
    "            logging.warn(\"Can't calculate MLE. Not integer values for Binomial distribution.\")\n",
    "        else:\n",
    "            if min(data) < 0:\n",
    "                logging.warn(wanringMsg+\"x < 0\")\n",
    "            #TODO, NOT IMPLEMENTED YET\n",
    "            \n",
    "    if dist == 'bernoulli': # pmf for Bernoulli\n",
    "        if not all(item.is_integer() for item in data):\n",
    "            logging.warn(\"Can't calculate MLE. Not integer values for Bernoulli distribution.\")\n",
    "        else:\n",
    "            if min(data) < 0:\n",
    "                logging.warn(wanringMsg+\"x < 0\")\n",
    "            #TODO, NOT IMPLEMENTED YET        \n",
    "    return pdmf_arr\n",
    "\n",
    "def llhood(data, dist, params, zero = 0):\n",
    "    pdmf_arr = pdmf(data, dist, params, zero)\n",
    "    ll = np.sum(np.log(pdmf_arr))    \n",
    "    return ll\n"
   ]
  },
  {
   "cell_type": "markdown",
   "metadata": {},
   "source": [
    "# Find Best Fit Distribution\n",
    "## Function name: best_fit_distribution\n",
    "**Args:**\n",
    "* data -> a series of data values (like group norms in our case)\n",
    "* bins -> how many bins we want to divide the data into (default = 200)\n",
    "* ax -> axes subplots (default None)\n",
    "  * subplot of the data with x and y limits set\n",
    "  * If given, this function will add histogram of data + all different distribution lines to this subplot\n",
    "\n",
    "**Returns:**\n",
    "* Best_Distribution_name -> winner among all distributions\n",
    "* Best_SSE -> Minimum sum of squared error\n",
    "* Best_params -> parameters of the best distribution which has at least two parameters of \"Location\" and \"Scale\" + any additional parameters based on the distribution type\n",
    "\n",
    "**What it does?**\n",
    "* Creates a histogram of the data divided to <BINS> bins\n",
    "* Sets x as the center of each bin\n",
    "* Sets y as the frequency value of each bin (normed = True)\n",
    "* Finds the best fit distribution among previously defined distributions based on the SSE of the returned value and the actual value\n",
    "  * Uses scipy.stats distribution methods **fit** and **pdf**\n",
    "  * scipy.stats current Distributions are **norm**, **expon**, and **lognorm** for now\n",
    "* If ax is set, it adds histogram and all the distributions lines with their MLE parameters to that"
   ]
  },
  {
   "cell_type": "code",
   "execution_count": 23,
   "metadata": {
    "collapsed": false
   },
   "outputs": [],
   "source": [
    "# Create models from data\n",
    "def best_fit_distribution(input_data, ax=None, plot_pdf = False, test_significance=True):\n",
    "    \"\"\"Model data by finding best fit distribution to data\"\"\"\n",
    "    DISTRIBUTIONS = [\n",
    "        'norm', 'lognorm', 'powerlaw', 'zin_lognorm', 'zin_powerlaw'\n",
    "    ]\n",
    "    # Best holders\n",
    "    best_distribution = ss.norm\n",
    "    best_params = (0.0, 1.0)\n",
    "    best_ll = -1 * np.inf\n",
    "\n",
    "    dist_ll = {}\n",
    "\n",
    "    N = len(input_data)\n",
    "    random.shuffle(input_data)\n",
    "    train_end = int(N/2)\n",
    "    data = np.sort(input_data[0:train_end])\n",
    "    test = np.sort(input_data[train_end:N])\n",
    "    #data = np.sort(input_data)\n",
    "    #test = np.sort(input_data)\n",
    "    input_data = np.sort(input_data)\n",
    "    \n",
    "    # Estimate distribution parameters from data\n",
    "    for distribution in DISTRIBUTIONS:\n",
    "        # Try to fit the distribution\n",
    "        try:\n",
    "            params = mle(data, distribution)\n",
    "            ll = loglikelihood(data, distribution)\n",
    "\n",
    "            dist_ll[distribution.name] = [round(ll, 2), params]\n",
    "            # if axis pass in add to plot\n",
    "            try:\n",
    "                if ax:\n",
    "                    # Calculate fitted PDF and error with fit in distribution\n",
    "                    if plot_pdf:\n",
    "                        y = distribution.pdf(input_data, loc=params[-2], scale=params[-1], *params[:-2])\n",
    "                    else:\n",
    "                        y = distribution.cdf(input_data, loc=params[-2], scale=params[-1], *params[:-2])\n",
    "                    pd.Series(y, input_data). \\\n",
    "                    plot(ax=ax, label=distribution.name + str(round(ll, 2)))\n",
    "            except Exception as detail:\n",
    "                print('Plotting Runtime Error: ' + str(detail))\n",
    "                pass\n",
    "            # identify if this distribution is better\n",
    "            if best_ll < ll:\n",
    "                best_distribution = distribution\n",
    "                best_params = params\n",
    "                best_ll = ll\n",
    "        except Exception as detail:\n",
    "            print('Runtime Error: ' + str(detail))\n",
    "            pass\n",
    "            \n",
    "    return (best_distribution.name, best_ll, best_params, dist_ll)"
   ]
  },
  {
   "cell_type": "markdown",
   "metadata": {},
   "source": [
    "Test"
   ]
  },
  {
   "cell_type": "code",
   "execution_count": 141,
   "metadata": {
    "collapsed": false
   },
   "outputs": [
    {
     "data": {
      "text/plain": [
       "<matplotlib.text.Text at 0x7fbd17a31d50>"
      ]
     },
     "execution_count": 141,
     "metadata": {},
     "output_type": "execute_result"
    },
    {
     "data": {
      "image/png": "[encoded data removed]",
      "text/plain": [
       "<matplotlib.figure.Figure at 0x7fbd196fd750>"
      ]
     },
     "metadata": {},
     "output_type": "display_data"
    }
   ],
   "source": [
    "data = ss.powerlaw.rvs(3,size=1000)\n",
    "data = np.sort(data)\n",
    "#data = data + [0] * 100\n",
    "val_idx = plt.hist(data, bins=1000, normed=1)\n",
    "idx = val_idx[1]\n",
    "params = mle(data, 'powerlaw', 0)\n",
    "params2 = ss.powerlaw.fit(data)\n",
    "ll = llhood(data, 'powerlaw', params, 0)\n",
    "idx = (idx[1:] + idx[:-1])/2\n",
    "pdmf_arr = pdmf(idx, 'powerlaw', params, 0)\n",
    "pdf = ss.powerlaw.pdf(idx, loc=params2[-2], scale=params2[-1], *params2[:-2])\n",
    "#pdb.set_trace()\n",
    "plt.plot(idx, pdmf_arr)\n",
    "plt.title('ll: ' + str(ll))"
   ]
  }
 ],
 "metadata": {
  "kernelspec": {
   "display_name": "Python 2",
   "language": "python",
   "name": "python2"
  },
  "language_info": {
   "codemirror_mode": {
    "name": "ipython",
    "version": 2
   },
   "file_extension": ".py",
   "mimetype": "text/x-python",
   "name": "python",
   "nbconvert_exporter": "python",
   "pygments_lexer": "ipython2",
   "version": "2.7.6"
  }
 },
 "nbformat": 4,
 "nbformat_minor": 0
}
